{
 "cells": [
  {
   "cell_type": "code",
   "execution_count": null,
   "id": "0a850747-34cb-4637-bc82-c320e8431229",
   "metadata": {},
   "outputs": [],
   "source": []
  },
  {
   "cell_type": "markdown",
   "id": "8eb76307-d7cb-4770-aa39-e071a8064755",
   "metadata": {},
   "source": [
    "The dataset used in this project can be downloaded from [here](https://www.kaggle.com/thevirusx3/automated-essay-scoring-dataset?select=valid_set.tsv) on Kaggle"
   ]
  },
  {
   "cell_type": "code",
   "execution_count": 1,
   "id": "210ff153-b74a-422e-ba5c-36307b64d6c7",
   "metadata": {},
   "outputs": [],
   "source": [
    "import pandas as pd\n",
    "import numpy as np\n",
    "\n",
    "import matplotlib.pyplot as plt\n",
    "%matplotlib inline\n",
    "\n",
    "import seaborn as sns\n",
    "sns.set_theme()\n",
    "\n",
    "import tensorflow as tf\n",
    "\n",
    "from gensim.models import Word2Vec\n",
    "\n",
    "from sklearn.model_selection import KFold\n",
    "from sklearn.metrics import cohen_kappa_score\n",
    "\n",
    "import my_utils\n",
    "from my_utils import essay_to_wordlist, essay_to_sentences, makeFeatureVec, getAvgFeatureVecs, get_model"
   ]
  },
  {
   "cell_type": "code",
   "execution_count": 2,
   "id": "0c27d292-888f-4c05-9aad-8b02649ee969",
   "metadata": {
    "id": "241wSQ58GChW"
   },
   "outputs": [],
   "source": [
    "df = pd.read_csv('./data/long.tsv', delimiter='\\t', encoding='ISO-8859-1',\n",
    "                      usecols=['essay_set', 'essay', 'domain1_score'])\n",
    "\n",
    "y = df['domain1_score']\n",
    "X = df['essay']"
   ]
  },
  {
   "cell_type": "code",
   "execution_count": 3,
   "id": "480dc65d-5f2e-48f5-b1f7-30943b6c5790",
   "metadata": {},
   "outputs": [
    {
     "data": {
      "text/html": [
       "<div>\n",
       "<style scoped>\n",
       "    .dataframe tbody tr th:only-of-type {\n",
       "        vertical-align: middle;\n",
       "    }\n",
       "\n",
       "    .dataframe tbody tr th {\n",
       "        vertical-align: top;\n",
       "    }\n",
       "\n",
       "    .dataframe thead th {\n",
       "        text-align: right;\n",
       "    }\n",
       "</style>\n",
       "<table border=\"1\" class=\"dataframe\">\n",
       "  <thead>\n",
       "    <tr style=\"text-align: right;\">\n",
       "      <th></th>\n",
       "      <th>essay_set</th>\n",
       "      <th>essay</th>\n",
       "      <th>domain1_score</th>\n",
       "    </tr>\n",
       "  </thead>\n",
       "  <tbody>\n",
       "    <tr>\n",
       "      <th>0</th>\n",
       "      <td>1</td>\n",
       "      <td>Dear local newspaper, I think effects computer...</td>\n",
       "      <td>8</td>\n",
       "    </tr>\n",
       "    <tr>\n",
       "      <th>1</th>\n",
       "      <td>1</td>\n",
       "      <td>Dear @CAPS1 @CAPS2, I believe that using compu...</td>\n",
       "      <td>9</td>\n",
       "    </tr>\n",
       "    <tr>\n",
       "      <th>2</th>\n",
       "      <td>1</td>\n",
       "      <td>Dear, @CAPS1 @CAPS2 @CAPS3 More and more peopl...</td>\n",
       "      <td>7</td>\n",
       "    </tr>\n",
       "    <tr>\n",
       "      <th>3</th>\n",
       "      <td>1</td>\n",
       "      <td>Dear Local Newspaper, @CAPS1 I have found that...</td>\n",
       "      <td>10</td>\n",
       "    </tr>\n",
       "    <tr>\n",
       "      <th>4</th>\n",
       "      <td>1</td>\n",
       "      <td>Dear @LOCATION1, I know having computers has a...</td>\n",
       "      <td>8</td>\n",
       "    </tr>\n",
       "    <tr>\n",
       "      <th>5</th>\n",
       "      <td>1</td>\n",
       "      <td>Dear @LOCATION1, I think that computers have a...</td>\n",
       "      <td>8</td>\n",
       "    </tr>\n",
       "    <tr>\n",
       "      <th>6</th>\n",
       "      <td>1</td>\n",
       "      <td>Did you know that more and more people these d...</td>\n",
       "      <td>10</td>\n",
       "    </tr>\n",
       "    <tr>\n",
       "      <th>7</th>\n",
       "      <td>1</td>\n",
       "      <td>@PERCENT1 of people agree that computers make ...</td>\n",
       "      <td>10</td>\n",
       "    </tr>\n",
       "    <tr>\n",
       "      <th>8</th>\n",
       "      <td>1</td>\n",
       "      <td>Dear reader, @ORGANIZATION1 has had a dramatic...</td>\n",
       "      <td>9</td>\n",
       "    </tr>\n",
       "    <tr>\n",
       "      <th>9</th>\n",
       "      <td>1</td>\n",
       "      <td>In the @LOCATION1 we have the technology of a ...</td>\n",
       "      <td>9</td>\n",
       "    </tr>\n",
       "  </tbody>\n",
       "</table>\n",
       "</div>"
      ],
      "text/plain": [
       "   essay_set                                              essay  domain1_score\n",
       "0          1  Dear local newspaper, I think effects computer...              8\n",
       "1          1  Dear @CAPS1 @CAPS2, I believe that using compu...              9\n",
       "2          1  Dear, @CAPS1 @CAPS2 @CAPS3 More and more peopl...              7\n",
       "3          1  Dear Local Newspaper, @CAPS1 I have found that...             10\n",
       "4          1  Dear @LOCATION1, I know having computers has a...              8\n",
       "5          1  Dear @LOCATION1, I think that computers have a...              8\n",
       "6          1  Did you know that more and more people these d...             10\n",
       "7          1  @PERCENT1 of people agree that computers make ...             10\n",
       "8          1  Dear reader, @ORGANIZATION1 has had a dramatic...              9\n",
       "9          1  In the @LOCATION1 we have the technology of a ...              9"
      ]
     },
     "execution_count": 3,
     "metadata": {},
     "output_type": "execute_result"
    }
   ],
   "source": [
    "df.head(10)"
   ]
  },
  {
   "cell_type": "code",
   "execution_count": 4,
   "id": "d172fe0b-5b25-4fef-b37f-88578178e47b",
   "metadata": {
    "colab": {
     "base_uri": "https://localhost:8080/"
    },
    "executionInfo": {
     "elapsed": 6552,
     "status": "ok",
     "timestamp": 1620130783820,
     "user": {
      "displayName": "Hunter Bamel",
      "photoUrl": "",
      "userId": "11224531553902697959"
     },
     "user_tz": -330
    },
    "id": "DJeEXfcd2X3K",
    "outputId": "274ddebf-e2bd-4bad-a263-13aa8cc0dbfd"
   },
   "outputs": [
    {
     "data": {
      "text/plain": [
       "0    Dear local newspaper, I think effects computer...\n",
       "1    Dear @CAPS1 @CAPS2, I believe that using compu...\n",
       "2    Dear, @CAPS1 @CAPS2 @CAPS3 More and more peopl...\n",
       "3    Dear Local Newspaper, @CAPS1 I have found that...\n",
       "4    Dear @LOCATION1, I know having computers has a...\n",
       "Name: essay, dtype: object"
      ]
     },
     "execution_count": 4,
     "metadata": {},
     "output_type": "execute_result"
    }
   ],
   "source": [
    "X.head()"
   ]
  },
  {
   "cell_type": "code",
   "execution_count": 5,
   "id": "4606277b-8c3c-4c09-a7b3-1ec617e9a585",
   "metadata": {},
   "outputs": [
    {
     "data": {
      "text/plain": [
       "12971    35\n",
       "12972    32\n",
       "12973    40\n",
       "12974    40\n",
       "12975    40\n",
       "Name: domain1_score, dtype: int64"
      ]
     },
     "execution_count": 5,
     "metadata": {},
     "output_type": "execute_result"
    }
   ],
   "source": [
    "y.tail()"
   ]
  },
  {
   "cell_type": "markdown",
   "id": "f66edf0e-6661-437f-87a2-11fa7c2c4b1e",
   "metadata": {},
   "source": [
    "### 5-Fold Cross Validation Training"
   ]
  },
  {
   "cell_type": "code",
   "execution_count": 6,
   "id": "45179122-8eed-4ad8-b519-93a7dde1572a",
   "metadata": {
    "colab": {
     "base_uri": "https://localhost:8080/",
     "height": 836
    },
    "executionInfo": {
     "elapsed": 107446,
     "status": "error",
     "timestamp": 1619766846141,
     "user": {
      "displayName": "Hunter Bamel",
      "photoUrl": "",
      "userId": "11224531553902697959"
     },
     "user_tz": -330
    },
    "id": "pL1ABArP3MdH",
    "outputId": "4374689a-3b65-46c5-f041-d572cbecd6fd",
    "tags": []
   },
   "outputs": [
    {
     "name": "stdout",
     "output_type": "stream",
     "text": [
      "Model: \"sequential\"\n",
      "_________________________________________________________________\n",
      "Layer (type)                 Output Shape              Param #   \n",
      "=================================================================\n",
      "bidirectional (Bidirectional (None, 1, 600)            1083600   \n",
      "_________________________________________________________________\n",
      "bidirectional_1 (Bidirection (None, 128)               255744    \n",
      "_________________________________________________________________\n",
      "dropout (Dropout)            (None, 128)               0         \n",
      "_________________________________________________________________\n",
      "dense (Dense)                (None, 1)                 129       \n",
      "=================================================================\n",
      "Total params: 1,339,473\n",
      "Trainable params: 1,339,473\n",
      "Non-trainable params: 0\n",
      "_________________________________________________________________\n",
      "\n",
      "--------Fold 1--------\n",
      "\n",
      "Training Word2Vec Model...\n",
      "Finished Word2Vec training\n",
      "\n",
      "Training the Sequential Model...\n",
      "Epoch 1/5\n",
      "325/325 [==============================] - 12s 20ms/step - loss: 28.0532 - mae: 3.0787\n",
      "Epoch 2/5\n",
      "325/325 [==============================] - 6s 20ms/step - loss: 11.3246 - mae: 2.1496\n",
      "Epoch 3/5\n",
      "325/325 [==============================] - 7s 20ms/step - loss: 9.8382 - mae: 2.0432\n",
      "Epoch 4/5\n",
      "325/325 [==============================] - 7s 20ms/step - loss: 9.2562 - mae: 1.9908\n",
      "Epoch 5/5\n",
      "325/325 [==============================] - 6s 20ms/step - loss: 8.7092 - mae: 1.9240\n",
      "Kappa Score: 0.9572111746451858\n",
      "\n",
      "--------Fold 2--------\n",
      "\n",
      "Training Word2Vec Model...\n",
      "Finished Word2Vec training\n",
      "\n",
      "Training the Sequential Model...\n",
      "Epoch 1/5\n",
      "325/325 [==============================] - 6s 19ms/step - loss: 19.3273 - mae: 2.6378\n",
      "Epoch 2/5\n",
      "325/325 [==============================] - 6s 18ms/step - loss: 10.3102 - mae: 1.9676\n",
      "Epoch 3/5\n",
      "325/325 [==============================] - 6s 17ms/step - loss: 8.3930 - mae: 1.6988\n",
      "Epoch 4/5\n",
      "325/325 [==============================] - 6s 18ms/step - loss: 7.4426 - mae: 1.5541\n",
      "Epoch 5/5\n",
      "325/325 [==============================] - 6s 19ms/step - loss: 6.9556 - mae: 1.4769\n",
      "Kappa Score: 0.9640188462854267\n",
      "\n",
      "--------Fold 3--------\n",
      "\n",
      "Training Word2Vec Model...\n",
      "Finished Word2Vec training\n",
      "\n",
      "Training the Sequential Model...\n",
      "Epoch 1/5\n",
      "325/325 [==============================] - 6s 18ms/step - loss: 14.9277 - mae: 2.0629\n",
      "Epoch 2/5\n",
      "325/325 [==============================] - 6s 20ms/step - loss: 9.4211 - mae: 1.6395\n",
      "Epoch 3/5\n",
      "325/325 [==============================] - 6s 19ms/step - loss: 7.8993 - mae: 1.5274\n",
      "Epoch 4/5\n",
      "325/325 [==============================] - 6s 19ms/step - loss: 6.9603 - mae: 1.4686\n",
      "Epoch 5/5\n",
      "325/325 [==============================] - 6s 20ms/step - loss: 7.1801 - mae: 1.4536\n",
      "Kappa Score: 0.9636205887263255\n",
      "\n",
      "--------Fold 4--------\n",
      "\n",
      "Training Word2Vec Model...\n",
      "Finished Word2Vec training\n",
      "\n",
      "Training the Sequential Model...\n",
      "Epoch 1/5\n",
      "325/325 [==============================] - 6s 19ms/step - loss: 13.5326 - mae: 1.8934\n",
      "Epoch 2/5\n",
      "325/325 [==============================] - 6s 19ms/step - loss: 8.6848 - mae: 1.5758\n",
      "Epoch 3/5\n",
      "325/325 [==============================] - 6s 20ms/step - loss: 8.1700 - mae: 1.5286\n",
      "Epoch 4/5\n",
      "325/325 [==============================] - 6s 19ms/step - loss: 7.1818 - mae: 1.4504\n",
      "Epoch 5/5\n",
      "325/325 [==============================] - 6s 20ms/step - loss: 7.0245 - mae: 1.4198\n",
      "Kappa Score: 0.9619483342514199\n",
      "\n",
      "--------Fold 5--------\n",
      "\n",
      "Training Word2Vec Model...\n",
      "Finished Word2Vec training\n",
      "\n",
      "Training the Sequential Model...\n",
      "Epoch 1/5\n",
      "325/325 [==============================] - 6s 20ms/step - loss: 19.4778 - mae: 2.2704\n",
      "Epoch 2/5\n",
      "325/325 [==============================] - 6s 19ms/step - loss: 9.1213 - mae: 1.5912\n",
      "Epoch 3/5\n",
      "325/325 [==============================] - 6s 20ms/step - loss: 7.8906 - mae: 1.5095\n",
      "Epoch 4/5\n",
      "325/325 [==============================] - 6s 20ms/step - loss: 7.1774 - mae: 1.4565\n",
      "Epoch 5/5\n",
      "325/325 [==============================] - 6s 19ms/step - loss: 6.7803 - mae: 1.4313\n",
      "Kappa Score: 0.9645825531903511\n"
     ]
    }
   ],
   "source": [
    "cv = KFold(n_splits = 5, shuffle = True)\n",
    "results = []\n",
    "y_pred_list = []\n",
    "\n",
    "clf_model = my_utils.get_model()\n",
    "\n",
    "for count, (traincv, testcv) in enumerate(cv.split(X)):\n",
    "    print(\"\\n--------Fold {}--------\\n\".format(count+1))\n",
    "    X_test, X_train, y_test, y_train = X.iloc[testcv], X.iloc[traincv], y.iloc[testcv], y.iloc[traincv]\n",
    "\n",
    "    sentences = []\n",
    "    \n",
    "    for essay in X_train:\n",
    "            # Obtaining all sentences from the training essays.\n",
    "            sentences += my_utils.essay_to_sentences(essay, remove_stopwords=True)\n",
    "            \n",
    "    # Initializing variables for word2vec model.\n",
    "    num_features = 300\n",
    "    min_word_count = 40\n",
    "    num_workers = 8\n",
    "    context = 10\n",
    "    downsampling = 1e-3\n",
    "\n",
    "    print(\"Training Word2Vec Model...\")\n",
    "    w2v = Word2Vec(sentences, workers=num_workers, vector_size=num_features, min_count=min_word_count, window=context, sample=downsampling)\n",
    "\n",
    "    clean_train_essays = []\n",
    "    \n",
    "    # Generate training and testing data word vectors.\n",
    "    for essay_v in X_train:\n",
    "        clean_train_essays.append(my_utils.essay_to_wordlist(essay_v, remove_stopwords=True))\n",
    "    trainDataVecs = my_utils.getAvgFeatureVecs(clean_train_essays, w2v, num_features)\n",
    "    \n",
    "    clean_test_essays = []\n",
    "    for essay_v in X_test:\n",
    "        clean_test_essays.append(my_utils.essay_to_wordlist(essay_v, remove_stopwords=True))\n",
    "    testDataVecs = my_utils.getAvgFeatureVecs(clean_test_essays, w2v, num_features)\n",
    "    \n",
    "    trainDataVecs = np.array(trainDataVecs)\n",
    "    testDataVecs = np.array(testDataVecs)\n",
    "\n",
    "    # Reshaping train and test vectors to 3 dimensions. (1 represnts one timestep)\n",
    "    trainDataVecs = np.reshape(trainDataVecs, (trainDataVecs.shape[0], 1, trainDataVecs.shape[1]))\n",
    "    testDataVecs = np.reshape(testDataVecs, (testDataVecs.shape[0], 1, testDataVecs.shape[1]))\n",
    "    print('Finished Word2Vec training\\n')\n",
    "    \n",
    "    print('Training the Sequential Model...')\n",
    "    clf_model.fit(trainDataVecs, y_train, batch_size=32, epochs=5)\n",
    "    y_pred = clf_model.predict(testDataVecs)\n",
    "    \n",
    "#     Save any one of the 5 models.\n",
    "#     if count + 1 == 5:\n",
    "#         clf_model.save('./saved_model/aes_model.h5')\n",
    "    \n",
    "    # Round y_pred to the nearest integer.\n",
    "    y_pred = np.around(y_pred)\n",
    "    \n",
    "    # Evaluate the model on the evaluation metric. \"Quadratic mean averaged Kappa\"\n",
    "    result = cohen_kappa_score(y_test.values, y_pred, weights='quadratic')\n",
    "    print(f\"Kappa Score: {result}\")\n",
    "    results.append(result)\n"
   ]
  },
  {
   "cell_type": "code",
   "execution_count": 7,
   "id": "1c000f55-eef9-4776-bab8-8f917e2d75e9",
   "metadata": {
    "colab": {
     "base_uri": "https://localhost:8080/"
    },
    "executionInfo": {
     "elapsed": 1146,
     "status": "ok",
     "timestamp": 1619693290100,
     "user": {
      "displayName": "Hunter Bamel",
      "photoUrl": "",
      "userId": "11224531553902697959"
     },
     "user_tz": -330
    },
    "id": "7oFO6F8l3SyK",
    "outputId": "0f96e85f-37d9-440b-eea2-992f45c06318",
    "tags": []
   },
   "outputs": [
    {
     "name": "stdout",
     "output_type": "stream",
     "text": [
      "Average Kappa score after a 5-fold cross validation:  0.9623\n"
     ]
    }
   ],
   "source": [
    "print(\"Average Kappa score after a 5-fold cross validation: \",np.around(np.array(results).mean(),decimals=4))"
   ]
  },
  {
   "cell_type": "markdown",
   "id": "739dba4b-b5b1-4060-99eb-6d1c041bd1f1",
   "metadata": {},
   "source": [
    "### Random Plot of Comparison (Manual Evaluated vs Model Predicted Scores)"
   ]
  },
  {
   "cell_type": "code",
   "execution_count": 19,
   "id": "4982e751-378d-4108-84af-79a819757448",
   "metadata": {},
   "outputs": [],
   "source": [
    "def plot():\n",
    "    y_test.reset_index(drop=True, inplace=True)\n",
    "    indices = np.random.choice(y_test.index, size=30)\n",
    "    test, pred = y_test[indices], y_pred.flatten().astype(int)[indices]\n",
    "    plt.figure(figsize=(20, 5))\n",
    "    plt.plot(range(30), test)\n",
    "    plt.plot(range(30), pred)\n",
    "    plt.xticks(range(30))\n",
    "    plt.legend(['Human Score', 'Predicted Score'])\n",
    "    plt.xlabel('Questions')\n",
    "    plt.ylabel('Marks')\n",
    "    plt.show()"
   ]
  },
  {
   "cell_type": "code",
   "execution_count": 20,
   "id": "c1469add-fe47-4db9-ae55-95832a1dfec8",
   "metadata": {},
   "outputs": [
    {
     "data": {
      "image/png": "[encoded data removed]",
      "text/plain": [
       "<Figure size 1440x360 with 1 Axes>"
      ]
     },
     "metadata": {},
     "output_type": "display_data"
    }
   ],
   "source": [
    "plot()"
   ]
  }
 ],
 "metadata": {
  "kernelspec": {
   "display_name": "Python 3",
   "language": "python",
   "name": "python3"
  },
  "language_info": {
   "codemirror_mode": {
    "name": "ipython",
    "version": 3
   },
   "file_extension": ".py",
   "mimetype": "text/x-python",
   "name": "python",
   "nbconvert_exporter": "python",
   "pygments_lexer": "ipython3",
   "version": "3.8.8"
  }
 },
 "nbformat": 4,
 "nbformat_minor": 5
}
